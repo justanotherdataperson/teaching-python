{
 "cells": [
  {
   "attachments": {},
   "cell_type": "markdown",
   "id": "f19530f9",
   "metadata": {},
   "source": [
    "# Arrays"
   ]
  },
  {
   "attachments": {},
   "cell_type": "markdown",
   "id": "880e9604",
   "metadata": {},
   "source": [
    "## 1. Setup"
   ]
  },
  {
   "cell_type": "code",
   "execution_count": 1,
   "id": "a7c09e3f",
   "metadata": {},
   "outputs": [],
   "source": [
    "# Standard library imports\n",
    "from typing import Union\n",
    "\n",
    "# Third party imports\n",
    "import numpy as np\n",
    "import torch\n",
    "from torch import nn"
   ]
  },
  {
   "attachments": {},
   "cell_type": "markdown",
   "id": "51775012",
   "metadata": {},
   "source": [
    "## 2. Scenarios"
   ]
  },
  {
   "attachments": {},
   "cell_type": "markdown",
   "id": "85f5da9a",
   "metadata": {},
   "source": [
    "### 2.1 Images\n",
    "\n",
    "You have a six pixel image represnted in the format:\n",
    "```\n",
    "Alpha:\n",
    "{\n",
    "    R G       R G       R G\n",
    "    B A       B A       B A\n",
    "\n",
    "    R G       R G       R G\n",
    "    B A       B A       B A\n",
    "}\n",
    "\n",
    "Beta:\n",
    "{\n",
    "    11 200    19 16     40 23\n",
    "    18 0.2    99 0.25   12 0.4\n",
    "\n",
    "    32 184    26 177    35 99\n",
    "    12 0.8    6 0.75    7 0.9\n",
    "}\n",
    "\n",
    "```"
   ]
  },
  {
   "attachments": {},
   "cell_type": "markdown",
   "id": "0299562b",
   "metadata": {},
   "source": [
    "#### 2.1.1 Data"
   ]
  },
  {
   "cell_type": "code",
   "execution_count": 2,
   "id": "5851058d",
   "metadata": {},
   "outputs": [],
   "source": [
    "# Red = 0\n",
    "# Blue = 1\n",
    "# Green = 2\n",
    "# Alpha = 3\n",
    "\n",
    "alpha_simple = np.array([\n",
    "    [[[0, 1, 2, 3]] * 3] * 2,\n",
    "])[0]"
   ]
  },
  {
   "cell_type": "code",
   "execution_count": 3,
   "id": "dc49107e",
   "metadata": {},
   "outputs": [
    {
     "data": {
      "text/plain": [
       "array([[[0, 1, 2, 3],\n",
       "        [0, 1, 2, 3],\n",
       "        [0, 1, 2, 3]],\n",
       "\n",
       "       [[0, 1, 2, 3],\n",
       "        [0, 1, 2, 3],\n",
       "        [0, 1, 2, 3]]])"
      ]
     },
     "execution_count": 3,
     "metadata": {},
     "output_type": "execute_result"
    }
   ],
   "source": [
    "alpha_simple"
   ]
  },
  {
   "cell_type": "code",
   "execution_count": 4,
   "id": "36bc1791",
   "metadata": {},
   "outputs": [],
   "source": [
    "beta_simple = np.array([\n",
    "    [[11, 200, 18, 0.2], [19, 16, 99, 0.25], [40, 23, 12, 0.4]],\n",
    "    [[32, 184, 12, 0.8], [26, 177, 6, 0.75], [35, 99, 7, 0.9]], \n",
    "])"
   ]
  },
  {
   "cell_type": "code",
   "execution_count": 5,
   "id": "713d0ec0",
   "metadata": {},
   "outputs": [
    {
     "name": "stdout",
     "output_type": "stream",
     "text": [
      "Array has: 2 rows\n",
      "Array has: 3 columns\n",
      "Each row/column combination has: 4 values\n"
     ]
    }
   ],
   "source": [
    "print(f\"Array has: {beta_simple.shape[0]} rows\")\n",
    "print(f\"Array has: {beta_simple.shape[1]} columns\")\n",
    "print(f\"Each row/column combination has: {beta_simple.shape[2]} values\")"
   ]
  },
  {
   "cell_type": "code",
   "execution_count": 6,
   "id": "e9c460b7",
   "metadata": {},
   "outputs": [],
   "source": [
    "alpha_flat = np.array(\n",
    "    [[[0, 1]] * 3 , [[2, 3]] * 3] * 2\n",
    ").reshape(-1, 6)"
   ]
  },
  {
   "cell_type": "code",
   "execution_count": 7,
   "id": "43d9d25e",
   "metadata": {},
   "outputs": [
    {
     "data": {
      "text/plain": [
       "array([[0, 1, 0, 1, 0, 1],\n",
       "       [2, 3, 2, 3, 2, 3],\n",
       "       [0, 1, 0, 1, 0, 1],\n",
       "       [2, 3, 2, 3, 2, 3]])"
      ]
     },
     "execution_count": 7,
     "metadata": {},
     "output_type": "execute_result"
    }
   ],
   "source": [
    "alpha_flat"
   ]
  },
  {
   "cell_type": "code",
   "execution_count": 8,
   "id": "282f4785",
   "metadata": {},
   "outputs": [],
   "source": [
    "beta_flat = np.array([\n",
    "    [11, 200, 19, 16, 40, 23],\n",
    "    [18, 0.2, 99, 0.25, 12, 0.4],\n",
    "    [32, 184, 26, 177, 35, 99], \n",
    "    [ 12, 0.8, 6, 0.75, 7, 0.9], \n",
    "])"
   ]
  },
  {
   "attachments": {},
   "cell_type": "markdown",
   "id": "8450b099",
   "metadata": {},
   "source": [
    "#### 2.1.2 Functions"
   ]
  },
  {
   "cell_type": "code",
   "execution_count": 9,
   "id": "821f34df",
   "metadata": {},
   "outputs": [],
   "source": [
    "def via_mask(alpha: np.ndarray, beta: np.ndarray, chosen_alpha: Union[float, int]) -> np.ndarray:\n",
    "    \"\"\"Via masking.\n",
    "\n",
    "    Args:\n",
    "        alpha (np.ndarray): Array mapping values of beta to a colour.\n",
    "        beta (np.ndarray): Array of values.\n",
    "        colour (str): Chosen value of alpha.\n",
    "\n",
    "    Returns:\n",
    "        np.ndarray: Corresponding values.\n",
    "    \"\"\"\n",
    "    # Create mask\n",
    "    mask = alpha == chosen_alpha\n",
    "\n",
    "    output = beta[mask]\n",
    "\n",
    "    return output"
   ]
  },
  {
   "cell_type": "code",
   "execution_count": 10,
   "id": "ec6f8f1e",
   "metadata": {},
   "outputs": [],
   "source": [
    "def via_max_pooling(alpha: np.ndarray, beta: np.ndarray, chosen_alpha: Union[float, int]) -> np.ndarray:\n",
    "    \"\"\"Via max pooling.\n",
    "\n",
    "    Args:\n",
    "        alpha (np.ndarray): Array mapping values of beta to a colour.\n",
    "        beta (np.ndarray): Array of values.\n",
    "        colour (str): Chosen value of alpha.\n",
    "\n",
    "    Returns:\n",
    "        np.ndarray: Corresponding values.\n",
    "\n",
    "    Extended Summary:\n",
    "        This function will not work in all cases but has been written to\n",
    "        demonstrate how max-pooling of an array works.\n",
    "    \"\"\"\n",
    "    # Create a mask\n",
    "    mask = np.ma.masked_equal(alpha, chosen_alpha).mask\n",
    "\n",
    "    # Copy beta (to prevent overwriting the original data)\n",
    "    beta_copy = beta.copy()\n",
    "\n",
    "    # Set values other than the chosen alpha to -1\n",
    "    beta_copy[~mask] = -1\n",
    "\n",
    "    # This step will depend on the shape of the input data!\n",
    "    if len(alpha.shape) == 2:\n",
    "        beta_transformed = np.expand_dims(beta_copy, axis=0)\n",
    "    else:\n",
    "        raise NotImplementedError(\"Code assumes alpha/beta is 2D\")\n",
    "\n",
    "    # Create torch from numpy array\n",
    "    beta_tensor = torch.from_numpy(beta_transformed.astype(float))\n",
    "\n",
    "    # Run max pooling with a window of size (2, 2) with a step/stride such that\n",
    "    # there is no overlapping\n",
    "    m = nn.MaxPool2d((2, 2), stride=(2, 2))\n",
    "    output = m(beta_tensor).detach().numpy()\n",
    "    return output"
   ]
  },
  {
   "attachments": {},
   "cell_type": "markdown",
   "id": "8cc95bdd",
   "metadata": {},
   "source": [
    "#### 2.1.3 Testing 'simple' data"
   ]
  },
  {
   "cell_type": "code",
   "execution_count": 11,
   "id": "3d91ea06",
   "metadata": {},
   "outputs": [
    {
     "data": {
      "text/plain": [
       "array([[11., 19., 40.],\n",
       "       [32., 26., 35.]])"
      ]
     },
     "execution_count": 11,
     "metadata": {},
     "output_type": "execute_result"
    }
   ],
   "source": [
    "via_mask(alpha=alpha_simple, beta=beta_simple, chosen_alpha=0).reshape((beta_simple.shape[0], beta_simple.shape[1]))"
   ]
  },
  {
   "cell_type": "code",
   "execution_count": 12,
   "id": "d563476e",
   "metadata": {},
   "outputs": [
    {
     "data": {
      "text/plain": [
       "array([[200.,  16.,  23.],\n",
       "       [184., 177.,  99.]])"
      ]
     },
     "execution_count": 12,
     "metadata": {},
     "output_type": "execute_result"
    }
   ],
   "source": [
    "via_mask(alpha=alpha_simple, beta=beta_simple, chosen_alpha=1).reshape((beta_simple.shape[0], beta_simple.shape[1]))"
   ]
  },
  {
   "cell_type": "code",
   "execution_count": 13,
   "id": "2db257b0",
   "metadata": {},
   "outputs": [
    {
     "data": {
      "text/plain": [
       "array([[18., 99., 12.],\n",
       "       [12.,  6.,  7.]])"
      ]
     },
     "execution_count": 13,
     "metadata": {},
     "output_type": "execute_result"
    }
   ],
   "source": [
    "via_mask(alpha=alpha_simple, beta=beta_simple, chosen_alpha=2).reshape((beta_simple.shape[0], beta_simple.shape[1]))"
   ]
  },
  {
   "cell_type": "code",
   "execution_count": 14,
   "id": "cd25f099",
   "metadata": {},
   "outputs": [
    {
     "data": {
      "text/plain": [
       "array([[0.2 , 0.25, 0.4 ],\n",
       "       [0.8 , 0.75, 0.9 ]])"
      ]
     },
     "execution_count": 14,
     "metadata": {},
     "output_type": "execute_result"
    }
   ],
   "source": [
    "via_mask(alpha=alpha_simple, beta=beta_simple, chosen_alpha=3).reshape((beta_simple.shape[0], beta_simple.shape[1]))"
   ]
  },
  {
   "cell_type": "markdown",
   "id": "2099ae4c",
   "metadata": {},
   "source": [
    "#### 2.1.4 Testing 'flat' data"
   ]
  },
  {
   "cell_type": "code",
   "execution_count": 15,
   "id": "583d3a7b",
   "metadata": {},
   "outputs": [
    {
     "data": {
      "text/plain": [
       "array([[200.,  16.,  23.],\n",
       "       [184., 177.,  99.]])"
      ]
     },
     "execution_count": 15,
     "metadata": {},
     "output_type": "execute_result"
    }
   ],
   "source": [
    "via_mask(alpha=alpha_flat, beta=beta_flat, chosen_alpha=1).reshape(-1, 3)"
   ]
  },
  {
   "cell_type": "code",
   "execution_count": 16,
   "id": "851b036d",
   "metadata": {},
   "outputs": [
    {
     "data": {
      "text/plain": [
       "array([[200.,  16.,  23.],\n",
       "       [184., 177.,  99.]])"
      ]
     },
     "execution_count": 16,
     "metadata": {},
     "output_type": "execute_result"
    }
   ],
   "source": [
    "via_max_pooling(alpha=alpha_flat, beta=beta_flat, chosen_alpha=1)[0]"
   ]
  }
 ],
 "metadata": {
  "kernelspec": {
   "display_name": "venv",
   "language": "python",
   "name": "python3"
  },
  "language_info": {
   "codemirror_mode": {
    "name": "ipython",
    "version": 3
   },
   "file_extension": ".py",
   "mimetype": "text/x-python",
   "name": "python",
   "nbconvert_exporter": "python",
   "pygments_lexer": "ipython3",
   "version": "3.10.2"
  },
  "vscode": {
   "interpreter": {
    "hash": "5cbee1fd24d3d841d4a4b7c6f5a1199e9642762a56f349626ef18cc0620592d4"
   }
  }
 },
 "nbformat": 4,
 "nbformat_minor": 5
}
