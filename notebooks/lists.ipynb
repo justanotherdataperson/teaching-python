{
 "cells": [
  {
   "attachments": {},
   "cell_type": "markdown",
   "id": "f19530f9",
   "metadata": {},
   "source": [
    "# Lists"
   ]
  },
  {
   "attachments": {},
   "cell_type": "markdown",
   "id": "880e9604",
   "metadata": {},
   "source": [
    "## 1. Setup"
   ]
  },
  {
   "cell_type": "code",
   "execution_count": 1,
   "id": "a7c09e3f",
   "metadata": {},
   "outputs": [],
   "source": [
    "# n/a"
   ]
  },
  {
   "attachments": {},
   "cell_type": "markdown",
   "id": "51775012",
   "metadata": {},
   "source": [
    "## 2. Tips & Tricks"
   ]
  },
  {
   "attachments": {},
   "cell_type": "markdown",
   "id": "85f5da9a",
   "metadata": {},
   "source": [
    "### 2.1 Transpose list"
   ]
  },
  {
   "cell_type": "code",
   "execution_count": 2,
   "id": "7ac0e05f",
   "metadata": {},
   "outputs": [],
   "source": [
    "pre_transpose = [\n",
    "    [1, 2, 3],\n",
    "    [10, 20, 30],\n",
    "    [100, 200, 300],\n",
    "    [1000, 2000, 3000],\n",
    "]"
   ]
  },
  {
   "cell_type": "code",
   "execution_count": 3,
   "id": "ced14002",
   "metadata": {},
   "outputs": [
    {
     "data": {
      "text/plain": [
       "[[1, 10, 100, 1000], [2, 20, 200, 2000], [3, 30, 300, 3000]]"
      ]
     },
     "execution_count": 3,
     "metadata": {},
     "output_type": "execute_result"
    }
   ],
   "source": [
    "list(map(list, zip(*pre_transpose)))"
   ]
  },
  {
   "attachments": {},
   "cell_type": "markdown",
   "id": "da859c9a",
   "metadata": {},
   "source": [
    "### 2.2 Append vs. extend"
   ]
  },
  {
   "cell_type": "code",
   "execution_count": 4,
   "id": "7ce44eeb",
   "metadata": {},
   "outputs": [],
   "source": [
    "base_list = [1, 2, 3]\n",
    "\n",
    "extend_list = [4, 5, 6]\n",
    "\n",
    "append_list = [7, 8, 9]"
   ]
  },
  {
   "cell_type": "code",
   "execution_count": 5,
   "id": "200744e6",
   "metadata": {},
   "outputs": [
    {
     "name": "stdout",
     "output_type": "stream",
     "text": [
      "[1, 2, 3, 4, 5, 6]\n"
     ]
    }
   ],
   "source": [
    "base_list.extend(extend_list)\n",
    "print(base_list)"
   ]
  },
  {
   "cell_type": "code",
   "execution_count": 6,
   "id": "ff7a63c0",
   "metadata": {},
   "outputs": [
    {
     "name": "stdout",
     "output_type": "stream",
     "text": [
      "[1, 2, 3, 4, 5, 6, [7, 8, 9]]\n"
     ]
    }
   ],
   "source": [
    "base_list.append(append_list)\n",
    "print(base_list)"
   ]
  },
  {
   "attachments": {},
   "cell_type": "markdown",
   "id": "0226e8c3",
   "metadata": {},
   "source": [
    "### 2.3 Sort list by another list"
   ]
  },
  {
   "cell_type": "code",
   "execution_count": 7,
   "id": "ac800714",
   "metadata": {},
   "outputs": [],
   "source": [
    "fruit = ['apple', 'cherry', 'banana']\n",
    "\n",
    "fruit_order = [1, 3, 2]"
   ]
  },
  {
   "cell_type": "code",
   "execution_count": 8,
   "id": "e187ba48",
   "metadata": {},
   "outputs": [
    {
     "name": "stdout",
     "output_type": "stream",
     "text": [
      "[(1, 'apple'), (3, 'cherry'), (2, 'banana')]\n"
     ]
    }
   ],
   "source": [
    "print(list(zip(fruit_order, fruit)))"
   ]
  },
  {
   "cell_type": "code",
   "execution_count": 9,
   "id": "e8dd5603",
   "metadata": {},
   "outputs": [
    {
     "name": "stdout",
     "output_type": "stream",
     "text": [
      "[(1, 'apple'), (2, 'banana'), (3, 'cherry')]\n"
     ]
    }
   ],
   "source": [
    "print(sorted(zip(fruit_order, fruit)))"
   ]
  },
  {
   "cell_type": "code",
   "execution_count": 10,
   "id": "db5a2a13",
   "metadata": {},
   "outputs": [
    {
     "name": "stdout",
     "output_type": "stream",
     "text": [
      "['apple', 'banana', 'cherry']\n"
     ]
    }
   ],
   "source": [
    "\n",
    "print([x for _, x in sorted(zip(fruit_order, fruit))])"
   ]
  },
  {
   "attachments": {},
   "cell_type": "markdown",
   "id": "dd68440d",
   "metadata": {},
   "source": [
    "#### 2.4 Check items are a given type"
   ]
  },
  {
   "cell_type": "code",
   "execution_count": 11,
   "id": "36dff335",
   "metadata": {},
   "outputs": [],
   "source": [
    "# List of mixed type\n",
    "mixed_list = [True, False, \"False\", True, False]\n",
    "\n",
    "# List of consistent type\n",
    "consistent_list = [1, 2, 3, 4]"
   ]
  },
  {
   "cell_type": "code",
   "execution_count": 12,
   "id": "52a06403",
   "metadata": {},
   "outputs": [
    {
     "name": "stdout",
     "output_type": "stream",
     "text": [
      "Assertion failed as expected with mixed-type list\n"
     ]
    }
   ],
   "source": [
    "# Using 'all' will traverse the whole list\n",
    "\n",
    "# Expect this to fail\n",
    "try:\n",
    "    assert all(isinstance(x, bool) for x in mixed_list)\n",
    "except:\n",
    "    print(\"Assertion failed as expected with mixed-type list\")\n",
    "    pass\n",
    "\n",
    "assert all(isinstance(x, int) for x in consistent_list)"
   ]
  },
  {
   "cell_type": "code",
   "execution_count": 13,
   "id": "f3ba13ea",
   "metadata": {},
   "outputs": [
    {
     "name": "stdout",
     "output_type": "stream",
     "text": [
      "Assertion failed as expected with mixed-type list\n"
     ]
    }
   ],
   "source": [
    "# Using 'any' will only traverse the list as far as the first fail\n",
    "\n",
    "# Expect this to fail\n",
    "try:\n",
    "    assert not any(not isinstance(x, bool) for x in mixed_list)\n",
    "except:\n",
    "    print(\"Assertion failed as expected with mixed-type list\")\n",
    "    pass\n",
    "\n",
    "assert not any(not isinstance(x, int) for x in consistent_list)"
   ]
  },
  {
   "attachments": {},
   "cell_type": "markdown",
   "id": "2d22045e",
   "metadata": {},
   "source": [
    "### 2.5 Labelling values given boundary conditions"
   ]
  },
  {
   "cell_type": "code",
   "execution_count": 14,
   "id": "a024c8ec",
   "metadata": {},
   "outputs": [],
   "source": [
    "# Create groups and boundaries whereby:\n",
    "boundary_conditions = [\n",
    "    (5, \"A\"),  # Values less than or equal to 5 are category A\n",
    "    (10, \"B\"), # Values less than or equal to 10 are category B\n",
    "    (20, \"C\"), # Values less than or equal to 10 are category C\n",
    "]\n",
    "\n",
    "else_group = \"D\"\n",
    "\n",
    "groups = [x[1] for x in boundary_conditions]\n",
    "boundaries = [x[0] for x in boundary_conditions]"
   ]
  },
  {
   "cell_type": "code",
   "execution_count": 15,
   "id": "acd1a5b2",
   "metadata": {},
   "outputs": [
    {
     "name": "stdout",
     "output_type": "stream",
     "text": [
      "['A', 'A', 'B', 'C', 'D']\n"
     ]
    }
   ],
   "source": [
    "inputs = [1, 5, 8, 12, 34]\n",
    "\n",
    "print([\n",
    "    next(iter(groups[index] for index, boundary in enumerate(boundaries) if val <= boundary), else_group)\n",
    "          for val in inputs\n",
    "])"
   ]
  }
 ],
 "metadata": {
  "kernelspec": {
   "display_name": "venv",
   "language": "python",
   "name": "python3"
  },
  "language_info": {
   "codemirror_mode": {
    "name": "ipython",
    "version": 3
   },
   "file_extension": ".py",
   "mimetype": "text/x-python",
   "name": "python",
   "nbconvert_exporter": "python",
   "pygments_lexer": "ipython3",
   "version": "3.10.2"
  },
  "vscode": {
   "interpreter": {
    "hash": "5cbee1fd24d3d841d4a4b7c6f5a1199e9642762a56f349626ef18cc0620592d4"
   }
  }
 },
 "nbformat": 4,
 "nbformat_minor": 5
}
