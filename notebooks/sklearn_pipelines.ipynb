{
 "cells": [
  {
   "attachments": {},
   "cell_type": "markdown",
   "metadata": {},
   "source": [
    "# Scikit-learn pipelines"
   ]
  },
  {
   "attachments": {},
   "cell_type": "markdown",
   "metadata": {},
   "source": [
    "> Sequentially apply a list of transforms and a final estimator. Intermediate steps of the pipeline must be ‘transforms’, that is, they must implement fit and transform methods. The final estimator only needs to implement fit. \n",
    "\n",
    "https://scikit-learn.org/stable/modules/generated/sklearn.pipeline.Pipeline.html"
   ]
  },
  {
   "attachments": {},
   "cell_type": "markdown",
   "metadata": {},
   "source": [
    "## 1. Setup"
   ]
  },
  {
   "cell_type": "code",
   "execution_count": 1,
   "metadata": {},
   "outputs": [],
   "source": [
    "# Standard library imports\n",
    "import re\n",
    "\n",
    "# Third party imports\n",
    "from sklearn.pipeline import Pipeline\n",
    "from sklearn.preprocessing import FunctionTransformer"
   ]
  },
  {
   "attachments": {},
   "cell_type": "markdown",
   "metadata": {},
   "source": [
    "## 2. Pipelines"
   ]
  },
  {
   "attachments": {},
   "cell_type": "markdown",
   "metadata": {},
   "source": [
    "Pipeline Components"
   ]
  },
  {
   "cell_type": "code",
   "execution_count": 2,
   "metadata": {},
   "outputs": [],
   "source": [
    "def remove_special_characters(X: str, **fit_params) -> str:\n",
    "    \"\"\"Remove special characters from a string.\n",
    "\n",
    "    Args:\n",
    "        X (str): String to remove special characters from.\n",
    "\n",
    "    Returns:\n",
    "        str: String with special characters removed.\n",
    "    \"\"\"\n",
    "    # Remove all characters that are not a-z, A-Z or 0-9.\n",
    "    regex_pattern = \"[^a-zA-Z0-9]\"\n",
    "\n",
    "    # Run removal\n",
    "    output = re.sub(pattern=regex_pattern, repl='', string=X)\n",
    "\n",
    "    return output"
   ]
  },
  {
   "cell_type": "code",
   "execution_count": 3,
   "metadata": {},
   "outputs": [],
   "source": [
    "class CaseFixer:\n",
    "    \"\"\"Class to apply title-casing.\"\"\"\n",
    "\n",
    "    def fit(self, X: str, y = None, **fit_params) -> str:\n",
    "        \"\"\"Fit.\"\"\"\n",
    "        return self\n",
    "\n",
    "    def transform(self, X: str, y = None, **fit_params) -> str:\n",
    "        \"\"\"Apply title casing.\"\"\"\n",
    "        return X.title()\n",
    "\n",
    "    def fit_transform(self, X, y=None):\n",
    "        \"\"\"Fit then transform.\"\"\"\n",
    "        self.fit(X, y)\n",
    "\n",
    "        return self.transform(X, y)"
   ]
  },
  {
   "cell_type": "code",
   "execution_count": 4,
   "metadata": {},
   "outputs": [],
   "source": [
    "def print_kwargs(X, **kwargs):\n",
    "    \"\"\"Print keyword arguments.\"\"\"\n",
    "    print(f\"Keyword arguments are: {dict(**kwargs)}\")\n",
    "\n",
    "    return X"
   ]
  },
  {
   "attachments": {},
   "cell_type": "markdown",
   "metadata": {},
   "source": [
    "Pipeline"
   ]
  },
  {
   "cell_type": "code",
   "execution_count": 5,
   "metadata": {},
   "outputs": [],
   "source": [
    "pipe = Pipeline(steps=[\n",
    "    (\"test-keyword\", FunctionTransformer(func=print_kwargs)),  # Keyword arguments passed in later via the arg_grid\n",
    "    (\"test-keyword-manual\", FunctionTransformer(func=print_kwargs, kw_args={\"text\": \"Manual\"})),  # Pass keyword arguments directly here\n",
    "    ('remove-special-characters', FunctionTransformer(func=remove_special_characters)),\n",
    "    (\"test-plain\", \"passthrough\"),  # Generic pass-through\n",
    "    ('fix-casing', CaseFixer())\n",
    "    ])"
   ]
  },
  {
   "attachments": {},
   "cell_type": "markdown",
   "metadata": {},
   "source": [
    "Implementation"
   ]
  },
  {
   "cell_type": "code",
   "execution_count": 6,
   "metadata": {},
   "outputs": [],
   "source": [
    "# Define arguments to pass to parameters of various steps in the pipeline\n",
    "arg_grid = {\n",
    "    \"test-keyword__kw_args\": {\"Success\": True},  # Pass keyword arguments to test-keyword\n",
    "}"
   ]
  },
  {
   "cell_type": "code",
   "execution_count": 7,
   "metadata": {},
   "outputs": [
    {
     "data": {
      "text/html": [
       "<style>#sk-container-id-1 {color: black;background-color: white;}#sk-container-id-1 pre{padding: 0;}#sk-container-id-1 div.sk-toggleable {background-color: white;}#sk-container-id-1 label.sk-toggleable__label {cursor: pointer;display: block;width: 100%;margin-bottom: 0;padding: 0.3em;box-sizing: border-box;text-align: center;}#sk-container-id-1 label.sk-toggleable__label-arrow:before {content: \"▸\";float: left;margin-right: 0.25em;color: #696969;}#sk-container-id-1 label.sk-toggleable__label-arrow:hover:before {color: black;}#sk-container-id-1 div.sk-estimator:hover label.sk-toggleable__label-arrow:before {color: black;}#sk-container-id-1 div.sk-toggleable__content {max-height: 0;max-width: 0;overflow: hidden;text-align: left;background-color: #f0f8ff;}#sk-container-id-1 div.sk-toggleable__content pre {margin: 0.2em;color: black;border-radius: 0.25em;background-color: #f0f8ff;}#sk-container-id-1 input.sk-toggleable__control:checked~div.sk-toggleable__content {max-height: 200px;max-width: 100%;overflow: auto;}#sk-container-id-1 input.sk-toggleable__control:checked~label.sk-toggleable__label-arrow:before {content: \"▾\";}#sk-container-id-1 div.sk-estimator input.sk-toggleable__control:checked~label.sk-toggleable__label {background-color: #d4ebff;}#sk-container-id-1 div.sk-label input.sk-toggleable__control:checked~label.sk-toggleable__label {background-color: #d4ebff;}#sk-container-id-1 input.sk-hidden--visually {border: 0;clip: rect(1px 1px 1px 1px);clip: rect(1px, 1px, 1px, 1px);height: 1px;margin: -1px;overflow: hidden;padding: 0;position: absolute;width: 1px;}#sk-container-id-1 div.sk-estimator {font-family: monospace;background-color: #f0f8ff;border: 1px dotted black;border-radius: 0.25em;box-sizing: border-box;margin-bottom: 0.5em;}#sk-container-id-1 div.sk-estimator:hover {background-color: #d4ebff;}#sk-container-id-1 div.sk-parallel-item::after {content: \"\";width: 100%;border-bottom: 1px solid gray;flex-grow: 1;}#sk-container-id-1 div.sk-label:hover label.sk-toggleable__label {background-color: #d4ebff;}#sk-container-id-1 div.sk-serial::before {content: \"\";position: absolute;border-left: 1px solid gray;box-sizing: border-box;top: 0;bottom: 0;left: 50%;z-index: 0;}#sk-container-id-1 div.sk-serial {display: flex;flex-direction: column;align-items: center;background-color: white;padding-right: 0.2em;padding-left: 0.2em;position: relative;}#sk-container-id-1 div.sk-item {position: relative;z-index: 1;}#sk-container-id-1 div.sk-parallel {display: flex;align-items: stretch;justify-content: center;background-color: white;position: relative;}#sk-container-id-1 div.sk-item::before, #sk-container-id-1 div.sk-parallel-item::before {content: \"\";position: absolute;border-left: 1px solid gray;box-sizing: border-box;top: 0;bottom: 0;left: 50%;z-index: -1;}#sk-container-id-1 div.sk-parallel-item {display: flex;flex-direction: column;z-index: 1;position: relative;background-color: white;}#sk-container-id-1 div.sk-parallel-item:first-child::after {align-self: flex-end;width: 50%;}#sk-container-id-1 div.sk-parallel-item:last-child::after {align-self: flex-start;width: 50%;}#sk-container-id-1 div.sk-parallel-item:only-child::after {width: 0;}#sk-container-id-1 div.sk-dashed-wrapped {border: 1px dashed gray;margin: 0 0.4em 0.5em 0.4em;box-sizing: border-box;padding-bottom: 0.4em;background-color: white;}#sk-container-id-1 div.sk-label label {font-family: monospace;font-weight: bold;display: inline-block;line-height: 1.2em;}#sk-container-id-1 div.sk-label-container {text-align: center;}#sk-container-id-1 div.sk-container {/* jupyter's `normalize.less` sets `[hidden] { display: none; }` but bootstrap.min.css set `[hidden] { display: none !important; }` so we also need the `!important` here to be able to override the default hidden behavior on the sphinx rendered scikit-learn.org. See: https://github.com/scikit-learn/scikit-learn/issues/21755 */display: inline-block !important;position: relative;}#sk-container-id-1 div.sk-text-repr-fallback {display: none;}</style><div id=\"sk-container-id-1\" class=\"sk-top-container\"><div class=\"sk-text-repr-fallback\"><pre>Pipeline(steps=[(&#x27;test-keyword&#x27;,\n",
       "                 FunctionTransformer(func=&lt;function print_kwargs at 0x0000020DA7A86950&gt;,\n",
       "                                     kw_args={&#x27;Success&#x27;: True})),\n",
       "                (&#x27;test-keyword-manual&#x27;,\n",
       "                 FunctionTransformer(func=&lt;function print_kwargs at 0x0000020DA7A86950&gt;,\n",
       "                                     kw_args={&#x27;text&#x27;: &#x27;Manual&#x27;})),\n",
       "                (&#x27;remove-special-characters&#x27;,\n",
       "                 FunctionTransformer(func=&lt;function remove_special_characters at 0x0000020D997CDA20&gt;)),\n",
       "                (&#x27;test-plain&#x27;, &#x27;passthrough&#x27;),\n",
       "                (&#x27;fix-casing&#x27;,\n",
       "                 &lt;__main__.CaseFixer object at 0x0000020DA7A727A0&gt;)])</pre><b>In a Jupyter environment, please rerun this cell to show the HTML representation or trust the notebook. <br />On GitHub, the HTML representation is unable to render, please try loading this page with nbviewer.org.</b></div><div class=\"sk-container\" hidden><div class=\"sk-item sk-dashed-wrapped\"><div class=\"sk-label-container\"><div class=\"sk-label sk-toggleable\"><input class=\"sk-toggleable__control sk-hidden--visually\" id=\"sk-estimator-id-1\" type=\"checkbox\" ><label for=\"sk-estimator-id-1\" class=\"sk-toggleable__label sk-toggleable__label-arrow\">Pipeline</label><div class=\"sk-toggleable__content\"><pre>Pipeline(steps=[(&#x27;test-keyword&#x27;,\n",
       "                 FunctionTransformer(func=&lt;function print_kwargs at 0x0000020DA7A86950&gt;,\n",
       "                                     kw_args={&#x27;Success&#x27;: True})),\n",
       "                (&#x27;test-keyword-manual&#x27;,\n",
       "                 FunctionTransformer(func=&lt;function print_kwargs at 0x0000020DA7A86950&gt;,\n",
       "                                     kw_args={&#x27;text&#x27;: &#x27;Manual&#x27;})),\n",
       "                (&#x27;remove-special-characters&#x27;,\n",
       "                 FunctionTransformer(func=&lt;function remove_special_characters at 0x0000020D997CDA20&gt;)),\n",
       "                (&#x27;test-plain&#x27;, &#x27;passthrough&#x27;),\n",
       "                (&#x27;fix-casing&#x27;,\n",
       "                 &lt;__main__.CaseFixer object at 0x0000020DA7A727A0&gt;)])</pre></div></div></div><div class=\"sk-serial\"><div class=\"sk-item\"><div class=\"sk-estimator sk-toggleable\"><input class=\"sk-toggleable__control sk-hidden--visually\" id=\"sk-estimator-id-2\" type=\"checkbox\" ><label for=\"sk-estimator-id-2\" class=\"sk-toggleable__label sk-toggleable__label-arrow\">FunctionTransformer</label><div class=\"sk-toggleable__content\"><pre>FunctionTransformer(func=&lt;function print_kwargs at 0x0000020DA7A86950&gt;,\n",
       "                    kw_args={&#x27;Success&#x27;: True})</pre></div></div></div><div class=\"sk-item\"><div class=\"sk-estimator sk-toggleable\"><input class=\"sk-toggleable__control sk-hidden--visually\" id=\"sk-estimator-id-3\" type=\"checkbox\" ><label for=\"sk-estimator-id-3\" class=\"sk-toggleable__label sk-toggleable__label-arrow\">FunctionTransformer</label><div class=\"sk-toggleable__content\"><pre>FunctionTransformer(func=&lt;function print_kwargs at 0x0000020DA7A86950&gt;,\n",
       "                    kw_args={&#x27;text&#x27;: &#x27;Manual&#x27;})</pre></div></div></div><div class=\"sk-item\"><div class=\"sk-estimator sk-toggleable\"><input class=\"sk-toggleable__control sk-hidden--visually\" id=\"sk-estimator-id-4\" type=\"checkbox\" ><label for=\"sk-estimator-id-4\" class=\"sk-toggleable__label sk-toggleable__label-arrow\">FunctionTransformer</label><div class=\"sk-toggleable__content\"><pre>FunctionTransformer(func=&lt;function remove_special_characters at 0x0000020D997CDA20&gt;)</pre></div></div></div><div class=\"sk-item\"><div class=\"sk-estimator sk-toggleable\"><input class=\"sk-toggleable__control sk-hidden--visually\" id=\"sk-estimator-id-5\" type=\"checkbox\" ><label for=\"sk-estimator-id-5\" class=\"sk-toggleable__label sk-toggleable__label-arrow\">passthrough</label><div class=\"sk-toggleable__content\"><pre>passthrough</pre></div></div></div><div class=\"sk-item\"><div class=\"sk-estimator sk-toggleable\"><input class=\"sk-toggleable__control sk-hidden--visually\" id=\"sk-estimator-id-6\" type=\"checkbox\" ><label for=\"sk-estimator-id-6\" class=\"sk-toggleable__label sk-toggleable__label-arrow\">CaseFixer</label><div class=\"sk-toggleable__content\"><pre>&lt;__main__.CaseFixer object at 0x0000020DA7A727A0&gt;</pre></div></div></div></div></div></div></div>"
      ],
      "text/plain": [
       "Pipeline(steps=[('test-keyword',\n",
       "                 FunctionTransformer(func=<function print_kwargs at 0x0000020DA7A86950>,\n",
       "                                     kw_args={'Success': True})),\n",
       "                ('test-keyword-manual',\n",
       "                 FunctionTransformer(func=<function print_kwargs at 0x0000020DA7A86950>,\n",
       "                                     kw_args={'text': 'Manual'})),\n",
       "                ('remove-special-characters',\n",
       "                 FunctionTransformer(func=<function remove_special_characters at 0x0000020D997CDA20>)),\n",
       "                ('test-plain', 'passthrough'),\n",
       "                ('fix-casing',\n",
       "                 <__main__.CaseFixer object at 0x0000020DA7A727A0>)])"
      ]
     },
     "execution_count": 7,
     "metadata": {},
     "output_type": "execute_result"
    }
   ],
   "source": [
    "# Pass arguments to scikit-learn pipeline\n",
    "pipe.set_params(**arg_grid)"
   ]
  },
  {
   "cell_type": "code",
   "execution_count": 8,
   "metadata": {},
   "outputs": [],
   "source": [
    "example_input = [\"!HeL.lO\", \"G%ooDby!.E\"]"
   ]
  },
  {
   "cell_type": "code",
   "execution_count": 9,
   "metadata": {},
   "outputs": [
    {
     "name": "stdout",
     "output_type": "stream",
     "text": [
      "Keyword arguments are: {'Success': True}\n",
      "Keyword arguments are: {'text': 'Manual'}\n",
      "Keyword arguments are: {'Success': True}\n",
      "Keyword arguments are: {'text': 'Manual'}\n"
     ]
    }
   ],
   "source": [
    "output = [pipe.transform(x) for x in example_input]"
   ]
  },
  {
   "cell_type": "code",
   "execution_count": 10,
   "metadata": {},
   "outputs": [
    {
     "name": "stdout",
     "output_type": "stream",
     "text": [
      "['Hello', 'Goodbye']\n"
     ]
    }
   ],
   "source": [
    "print(output)"
   ]
  }
 ],
 "metadata": {
  "kernelspec": {
   "display_name": "Python 3",
   "language": "python",
   "name": "python3"
  },
  "language_info": {
   "codemirror_mode": {
    "name": "ipython",
    "version": 3
   },
   "file_extension": ".py",
   "mimetype": "text/x-python",
   "name": "python",
   "nbconvert_exporter": "python",
   "pygments_lexer": "ipython3",
   "version": "3.10.2"
  },
  "orig_nbformat": 4
 },
 "nbformat": 4,
 "nbformat_minor": 2
}
