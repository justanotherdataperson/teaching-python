{
 "cells": [
  {
   "attachments": {},
   "cell_type": "markdown",
   "metadata": {},
   "source": [
    "# Object Oriented Programming (OOP)"
   ]
  },
  {
   "attachments": {},
   "cell_type": "markdown",
   "metadata": {},
   "source": [
    "* Classes\n",
    "* Attributes\n",
    "* Magic methods e.g. `__getitem__`, `__len__`\n",
    "* Inheritance including `super()`\n",
    "* Decorators e.g. @staticmethod, @classmethod\n",
    "* Abstract Base Classes"
   ]
  },
  {
   "attachments": {},
   "cell_type": "markdown",
   "metadata": {},
   "source": [
    "## 1. Setup"
   ]
  },
  {
   "cell_type": "code",
   "execution_count": 1,
   "metadata": {},
   "outputs": [],
   "source": [
    "# Standard library imports\n",
    "from abc import ABC, ABCMeta, abstractmethod"
   ]
  },
  {
   "attachments": {},
   "cell_type": "markdown",
   "metadata": {},
   "source": [
    "## 2. Classes"
   ]
  },
  {
   "attachments": {},
   "cell_type": "markdown",
   "metadata": {},
   "source": [
    "### 2.1  Attributes, Methods, Magic Methods"
   ]
  },
  {
   "cell_type": "code",
   "execution_count": 2,
   "metadata": {},
   "outputs": [],
   "source": [
    "class Car:\n",
    "\n",
    "    def __init__(self):\n",
    "        \"\"\"Initialise class.\"\"\"\n",
    "        # By default, cars have 4 wheels\n",
    "        self.wheels = 4\n",
    "\n",
    "        # By default, doors are unlocked\n",
    "        self.locked = False\n",
    "\n",
    "    def lock(self):\n",
    "        \"\"\"Lock doors.\"\"\"\n",
    "        self.locked = True\n",
    "\n",
    "        print(f\"Car locks: {self.locked}\")\n",
    "\n",
    "    def unlock(self):\n",
    "        \"\"\"Unlock doors.\"\"\"\n",
    "        self.locked = False\n",
    "\n",
    "        print(f\"Car locks: {self.locked}\")"
   ]
  },
  {
   "cell_type": "code",
   "execution_count": 3,
   "metadata": {},
   "outputs": [],
   "source": [
    "basic_car = Car()"
   ]
  },
  {
   "cell_type": "code",
   "execution_count": 4,
   "metadata": {},
   "outputs": [
    {
     "name": "stdout",
     "output_type": "stream",
     "text": [
      "Car locks: False\n",
      "...locking car\n",
      "Car locks: True\n",
      "...unlocking car\n",
      "Car locks: False\n"
     ]
    }
   ],
   "source": [
    "print(f\"Car locks: {basic_car.locked}\")\n",
    "print(\"...locking car\")\n",
    "basic_car.lock()\n",
    "print(\"...unlocking car\")\n",
    "basic_car.unlock()"
   ]
  },
  {
   "cell_type": "code",
   "execution_count": 5,
   "metadata": {},
   "outputs": [],
   "source": [
    "class MyCar:\n",
    "\n",
    "    def __init__(self):\n",
    "        \"\"\"Initialise class.\n",
    "\n",
    "        Extended Summary:\n",
    "            Child class's __init__() overwrites the inheritance of the parent.\n",
    "        \"\"\"\n",
    "        # Inherit all methods and attributes from parent class\n",
    "        super().__init__()\n",
    "\n",
    "        self.body_configuration = \"hatchback\"\n",
    "        self.length = 4.0  # metres\n",
    "        self.width = 1.7  # metres\n",
    "        self.height = 1.5  # metres\n",
    "        self.doors = 3\n",
    "        self.driveline = \"front-wheel drive\"\n",
    "        self.engine_size = 1.0  # litres\n",
    "\n",
    "    def __repr__(self):\n",
    "        \"\"\"The goal of __repr__ is to be unambiguous.\"\"\"\n",
    "        unambiguous = f\"A {self.doors}-door, {self.driveline}, \"\\\n",
    "            f\"{self.body_configuration} car with a {self.engine_size} litre \"\\\n",
    "            f\"engine. Dimensions {self.length}m, {self.width}m, \"\\\n",
    "            f\"{self.height}m.\"\n",
    "\n",
    "        return unambiguous\n",
    "\n",
    "    def __str__(self):\n",
    "        \"\"\"The goal of __str__ is to be readable\"\"\"\n",
    "        succinct = f\"Your {self.doors}-door, {self.body_configuration} car \"\\\n",
    "            f\"with a {self.engine_size} engine\"\n",
    "\n",
    "        return succinct\n",
    "\n",
    "    def horn(self):\n",
    "        \"\"\"Horn.\"\"\"\n",
    "        print(\"Beeeeeeeeeeeeeeeeep\")"
   ]
  },
  {
   "cell_type": "code",
   "execution_count": 6,
   "metadata": {},
   "outputs": [],
   "source": [
    "my_car = MyCar()"
   ]
  },
  {
   "cell_type": "code",
   "execution_count": 7,
   "metadata": {},
   "outputs": [
    {
     "name": "stdout",
     "output_type": "stream",
     "text": [
      "Car() with no __repr__: <__main__.Car object at 0x000001B02DCACC40>\n",
      "\n",
      "MyCar() with custom __repr__: Your 3-door, hatchback car with a 1.0 engine\n"
     ]
    }
   ],
   "source": [
    "print(f\"Car() with no __repr__: {basic_car}\")\n",
    "print()\n",
    "print(f\"MyCar() with custom __repr__: {my_car}\")"
   ]
  },
  {
   "cell_type": "code",
   "execution_count": 8,
   "metadata": {},
   "outputs": [
    {
     "name": "stdout",
     "output_type": "stream",
     "text": [
      "Car() with no __str__: <__main__.Car object at 0x000001B02DCACC40>\n",
      "\n",
      "MyCar() with custom __str__: Your 3-door, hatchback car with a 1.0 engine\n"
     ]
    }
   ],
   "source": [
    "print(f\"Car() with no __str__: {str(basic_car)}\")\n",
    "print()\n",
    "print(f\"MyCar() with custom __str__: {str(my_car)}\")"
   ]
  },
  {
   "attachments": {},
   "cell_type": "markdown",
   "metadata": {},
   "source": [
    "### 2.2 Decorators"
   ]
  },
  {
   "cell_type": "code",
   "execution_count": 9,
   "metadata": {},
   "outputs": [],
   "source": [
    "class CalculatorPlain:\n",
    "    \"\"\"A 'normal' class.\"\"\"\n",
    "\n",
    "    def __init__(self):\n",
    "\n",
    "        self.brand = \"calc-u-lator\"\n",
    "\n",
    "    def add_numbers(self, numbers: list):\n",
    "        \"\"\"Add numbers in a list.\"\"\"\n",
    "        return sum(numbers)\n",
    "\n",
    "    def greet(self):\n",
    "        \"\"\"Spell 'ello with numbers.\"\"\"\n",
    "        return \"3110\""
   ]
  },
  {
   "cell_type": "code",
   "execution_count": 10,
   "metadata": {},
   "outputs": [],
   "source": [
    "calculator_plain = CalculatorPlain()"
   ]
  },
  {
   "cell_type": "code",
   "execution_count": 11,
   "metadata": {},
   "outputs": [
    {
     "data": {
      "text/plain": [
       "'3110'"
      ]
     },
     "execution_count": 11,
     "metadata": {},
     "output_type": "execute_result"
    }
   ],
   "source": [
    "calculator_plain.greet()"
   ]
  },
  {
   "cell_type": "code",
   "execution_count": 12,
   "metadata": {},
   "outputs": [],
   "source": [
    "class CalculatorNotObject:\n",
    "    \"\"\"\n",
    "    The @classmethod allows the method to be accessible without instantiation.\n",
    "    \"\"\"\n",
    "\n",
    "    brand = \"calc-u-lator\"\n",
    "\n",
    "    @classmethod\n",
    "    def add_numbers(self, numbers: list):\n",
    "        \"\"\"Add numbers in a list.\"\"\"\n",
    "        return sum(numbers)\n",
    "\n",
    "    @classmethod\n",
    "    def greet(self):\n",
    "        \"\"\"Spell 'ello with numbers.\"\"\"\n",
    "        return \"3110\""
   ]
  },
  {
   "cell_type": "code",
   "execution_count": 13,
   "metadata": {},
   "outputs": [
    {
     "data": {
      "text/plain": [
       "'3110'"
      ]
     },
     "execution_count": 13,
     "metadata": {},
     "output_type": "execute_result"
    }
   ],
   "source": [
    "CalculatorNotObject.greet()"
   ]
  },
  {
   "cell_type": "code",
   "execution_count": 14,
   "metadata": {},
   "outputs": [],
   "source": [
    "class CalculatorSelfless:\n",
    "    \"\"\"\n",
    "    The @staticmethod allows the method to not need self.\n",
    "    \"\"\"\n",
    "\n",
    "    brand = \"calc-u-lator\"\n",
    "\n",
    "    @staticmethod\n",
    "    def add_numbers(numbers: list):\n",
    "        \"\"\"Add numbers in a list.\n",
    "\n",
    "        Extended Summary:\n",
    "            Note the lack of `self`.\n",
    "        \"\"\"\n",
    "        return sum(numbers)\n",
    "\n",
    "    @staticmethod\n",
    "    def greet():\n",
    "        \"\"\"Spell 'ello with numbers.\n",
    "        \n",
    "        Extended Summary:\n",
    "            Note the lack of `self`.\n",
    "        \"\"\"\n",
    "        return \"3110\""
   ]
  },
  {
   "cell_type": "code",
   "execution_count": 15,
   "metadata": {},
   "outputs": [
    {
     "data": {
      "text/plain": [
       "'3110'"
      ]
     },
     "execution_count": 15,
     "metadata": {},
     "output_type": "execute_result"
    }
   ],
   "source": [
    "CalculatorSelfless().greet()"
   ]
  },
  {
   "attachments": {},
   "cell_type": "markdown",
   "metadata": {},
   "source": [
    "### 2.3 Abstract Classes"
   ]
  },
  {
   "cell_type": "code",
   "execution_count": 16,
   "metadata": {},
   "outputs": [],
   "source": [
    "class PlaneMeta(metaclass=ABCMeta):\n",
    "    \"\"\"\n",
    "    Metaclass to define properties and methods that inherited classes must have.\n",
    "\n",
    "    Extended Summary:\n",
    "        The metaclass=ABCMeta enforces rules at instantiation.\n",
    "    \"\"\"\n",
    "    \n",
    "    @property\n",
    "    @abstractmethod\n",
    "    def brand(self):\n",
    "        \"\"\"\n",
    "        All classes must have a brand attribute\n",
    "        \"\"\"\n",
    "        pass\n",
    "\n",
    "    @abstractmethod\n",
    "    def land(self):\n",
    "        \"\"\"\n",
    "        All classes must have a land method.\n",
    "\n",
    "        Extended Summary:\n",
    "            Not all planes have to take-off e.g. gliders, but they do have to\n",
    "            land.\n",
    "        \"\"\"\n",
    "        pass"
   ]
  },
  {
   "cell_type": "code",
   "execution_count": 17,
   "metadata": {},
   "outputs": [],
   "source": [
    "class Glider(PlaneMeta):\n",
    "    \"\"\"Example class that correctly overwrites abstractmethods.\"\"\"\n",
    "\n",
    "    def __init__(self, wingspan: int, brand: str, flying: bool = False):\n",
    "        \"\"\"Initialise class.\"\"\"\n",
    "        self.wingspan = wingspan  # metres\n",
    "        self.flying = flying\n",
    "        self._brand = brand\n",
    "\n",
    "    @property\n",
    "    def brand(self):\n",
    "        \"\"\"Set brand attribute.\"\"\"\n",
    "        return self._brand\n",
    "\n",
    "    def land(self):\n",
    "        \"\"\"Set land method.\"\"\"\n",
    "        self.flying = False\n"
   ]
  },
  {
   "cell_type": "code",
   "execution_count": 18,
   "metadata": {},
   "outputs": [
    {
     "data": {
      "text/plain": [
       "<__main__.Glider at 0x1b02dcdb0a0>"
      ]
     },
     "execution_count": 18,
     "metadata": {},
     "output_type": "execute_result"
    }
   ],
   "source": [
    "Glider(wingspan=15, brand=\"aerobus\")"
   ]
  },
  {
   "cell_type": "code",
   "execution_count": 19,
   "metadata": {},
   "outputs": [],
   "source": [
    "class CannotLand(PlaneMeta):\n",
    "    \"\"\"Example class that should error because there's no land method.\"\"\"\n",
    "\n",
    "    def __init__(self):\n",
    "        \"\"\"Initialise class.\"\"\"\n",
    "        self.wingspan = 15  # metres\n",
    "        self.flying = False\n",
    "\n",
    "    @property\n",
    "    def brand(self):\n",
    "        \"\"\"Brand property.\"\"\"\n",
    "        return \"aerobus\""
   ]
  },
  {
   "cell_type": "code",
   "execution_count": 20,
   "metadata": {},
   "outputs": [
    {
     "name": "stdout",
     "output_type": "stream",
     "text": [
      "Class needs to have the method `land()`\n"
     ]
    }
   ],
   "source": [
    "try:\n",
    "    CannotLand()\n",
    "except TypeError:\n",
    "    print(\"Class needs to have the method `land()`\")"
   ]
  }
 ],
 "metadata": {
  "kernelspec": {
   "display_name": "Python 3",
   "language": "python",
   "name": "python3"
  },
  "language_info": {
   "codemirror_mode": {
    "name": "ipython",
    "version": 3
   },
   "file_extension": ".py",
   "mimetype": "text/x-python",
   "name": "python",
   "nbconvert_exporter": "python",
   "pygments_lexer": "ipython3",
   "version": "3.10.2"
  },
  "orig_nbformat": 4
 },
 "nbformat": 4,
 "nbformat_minor": 2
}
